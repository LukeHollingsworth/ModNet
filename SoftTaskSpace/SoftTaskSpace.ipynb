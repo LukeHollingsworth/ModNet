{
 "cells": [
  {
   "cell_type": "markdown",
   "metadata": {},
   "source": [
    "## Soft Task Space\n",
    "Initialise nework with desired hyperparameters."
   ]
  },
  {
   "cell_type": "code",
   "execution_count": null,
   "metadata": {},
   "outputs": [],
   "source": [
    "import numpy as np\n",
    "np.seterr(all='ignore')\n",
    "from networks import simple_network\n",
    "from utils import *\n",
    "simple_hyperparameters = {'N_train' : 1000, #size of training dataset \n",
    "                          'N_test' : 100, #size of test set x\n",
    "                          'lr' : 0.001, #SGD learning rate \n",
    "                          'epochs' : 10, #training epochs\n",
    "                          'batch_size' : 10,  #batch size (large will probably fail)           \n",
    "                          'context_location' : 'start',  #where the feed in the task context 'start' vs 'end'\n",
    "                          'train_mode' : 'replay', #training mode 'random' vs 'replay' \n",
    "                          'second_task' : 'prod', #first task adds x+y, second task 'prod' = xy or 'add1.5' = x+1.5y\n",
    "                          'fraction' : 0.50, #fraction of training data for tasks 1 vs task 2\n",
    "                          'hidden_size' : 25, #hidden layer width\n",
    "                          'rule1_grad' : 0.25,\n",
    "                          'rule2_grad' : 4,\n",
    "                          'delta_theta': 90}\n",
    "\n",
    "simple_model = simple_network(simple_hyperparameters)"
   ]
  },
  {
   "cell_type": "markdown",
   "metadata": {},
   "source": [
    "Plot vector rulespace."
   ]
  },
  {
   "cell_type": "code",
   "execution_count": null,
   "metadata": {},
   "outputs": [],
   "source": [
    "rule1, rule2 = simple_model.rules()\n",
    "plot_rulespace(rule1, rule2, simple_model.x1_test[:,:2])"
   ]
  },
  {
   "cell_type": "markdown",
   "metadata": {},
   "source": [
    "Train multiple models (with relative importance metric)."
   ]
  },
  {
   "cell_type": "code",
   "execution_count": null,
   "metadata": {},
   "outputs": [],
   "source": [
    "N_models = 100\n",
    "models_RI = train_multiple('simple_network', simple_hyperparameters, N_models = N_models)\n",
    "plot_training(models_RI)\n"
   ]
  },
  {
   "attachments": {},
   "cell_type": "markdown",
   "metadata": {},
   "source": [
    "Train multiple constrained networks (10 hidden units)"
   ]
  },
  {
   "cell_type": "code",
   "execution_count": null,
   "metadata": {},
   "outputs": [],
   "source": [
    "simple_hyperparameters = {'N_train' : 1000, #size of training dataset \n",
    "                          'N_test' : 100, #size of test set x\n",
    "                          'lr' : 0.001, #SGD learning rate \n",
    "                          'epochs' : 10, #training epochs\n",
    "                          'batch_size' : 10,  #batch size (large will probably fail)           \n",
    "                          'context_location' : 'start',  #where the feed in the task context 'start' vs 'end'\n",
    "                          'train_mode' : 'replay', #training mode 'random' vs 'replay' \n",
    "                          'second_task' : 'prod', #first task adds x+y, second task 'prod' = xy or 'add1.5' = x+1.5y\n",
    "                          'fraction' : 0.50, #fraction of training data for tasks 1 vs task 2\n",
    "                          'hidden_size' : 10, #hidden layer width\n",
    "                          'rule1_grad' : 0.25,\n",
    "                          'rule2_grad' : 4,\n",
    "                          'delta_theta': 90}\n",
    "\n",
    "N_models = 100\n",
    "models_RI = train_multiple('small_network', simple_hyperparameters, N_models = N_models)\n",
    "plot_training(models_RI)"
   ]
  },
  {
   "cell_type": "markdown",
   "metadata": {},
   "source": [
    "Train multiple models (with importance similarity metric)."
   ]
  },
  {
   "cell_type": "code",
   "execution_count": null,
   "metadata": {},
   "outputs": [],
   "source": [
    "N_models = 100\n",
    "models_IS, IS_history = train_IS_history('simple_network', simple_hyperparameters, N_models = N_models)\n",
    "plot_training(models_IS)"
   ]
  },
  {
   "cell_type": "markdown",
   "metadata": {},
   "source": [
    "Plot relative importance."
   ]
  },
  {
   "cell_type": "code",
   "execution_count": null,
   "metadata": {},
   "outputs": [],
   "source": [
    "plot_RI(models_RI)"
   ]
  },
  {
   "cell_type": "markdown",
   "metadata": {},
   "source": [
    "Plot relative importance over variation in theta (angle between rule vectors)."
   ]
  },
  {
   "cell_type": "code",
   "execution_count": null,
   "metadata": {},
   "outputs": [],
   "source": [
    "theta_variation(model_class='simple_network')"
   ]
  },
  {
   "attachments": {},
   "cell_type": "markdown",
   "metadata": {},
   "source": [
    "Randomly sample theta and plot RI, variance of RI and IS"
   ]
  },
  {
   "cell_type": "code",
   "execution_count": null,
   "metadata": {},
   "outputs": [],
   "source": [
    "theta_sampling(model_class='simple_network', hyperparameters=simple_hyperparameters, N_models=5, N_theta=10)"
   ]
  },
  {
   "cell_type": "markdown",
   "metadata": {},
   "source": [
    "Plot absolute importance (*needs fixing*)."
   ]
  },
  {
   "cell_type": "code",
   "execution_count": null,
   "metadata": {},
   "outputs": [],
   "source": [
    "plot_I(models_IS)"
   ]
  },
  {
   "cell_type": "markdown",
   "metadata": {},
   "source": [
    "Plot importance similarity."
   ]
  },
  {
   "cell_type": "code",
   "execution_count": null,
   "metadata": {},
   "outputs": [],
   "source": [
    "plot_IS(models_IS)\n",
    "plot_IS_history(models_IS, IS_history, simple_hyperparameters)"
   ]
  }
 ],
 "metadata": {
  "kernelspec": {
   "display_name": "ModNet",
   "language": "python",
   "name": "python3"
  },
  "language_info": {
   "codemirror_mode": {
    "name": "ipython",
    "version": 3
   },
   "file_extension": ".py",
   "mimetype": "text/x-python",
   "name": "python",
   "nbconvert_exporter": "python",
   "pygments_lexer": "ipython3",
   "version": "3.10.8 | packaged by conda-forge | (main, Nov  4 2022, 13:42:51) [MSC v.1916 64 bit (AMD64)]"
  },
  "orig_nbformat": 4,
  "vscode": {
   "interpreter": {
    "hash": "d6472e7724036b9942d537136dc2b77055d9a374ff2a9c1da2b3097eaf005ec3"
   }
  }
 },
 "nbformat": 4,
 "nbformat_minor": 2
}
