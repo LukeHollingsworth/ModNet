{
 "cells": [
  {
   "cell_type": "markdown",
   "metadata": {},
   "source": [
    "## Soft Task Space\n",
    "Initialise nework with desired hyperparameters."
   ]
  },
  {
   "cell_type": "code",
   "execution_count": 3,
   "metadata": {},
   "outputs": [
    {
     "name": "stdout",
     "output_type": "stream",
     "text": [
      "model.delta_theta =  90\n"
     ]
    }
   ],
   "source": [
    "import numpy as np\n",
    "np.seterr(all='ignore')\n",
    "from networks import simple_network\n",
    "from utils import *\n",
    "simple_hyperparameters = {'N_train' : 1000, #size of training dataset \n",
    "                          'N_test' : 100, #size of test set x\n",
    "                          'lr' : 0.001, #SGD learning rate \n",
    "                          'epochs' : 10, #training epochs\n",
    "                          'batch_size' : 10,  #batch size (large will probably fail)           \n",
    "                          'context_location' : 'start',  #where the feed in the task context 'start' vs 'end'\n",
    "                          'train_mode' : 'random', #training mode 'random' vs 'replay' \n",
    "                          'second_task' : 'prod', #first task adds x+y, second task 'prod' = xy or 'add1.5' = x+1.5y\n",
    "                          'fraction' : 0.50, #fraction of training data for tasks 1 vs task 2\n",
    "                          'hidden_size' : 25, #hidden layer width\n",
    "                          'rule1_grad' : 0,\n",
    "                          'rule2_grad' : 1,\n",
    "                          'delta_theta': 90}\n",
    "\n",
    "simple_model = simple_network(simple_hyperparameters)"
   ]
  },
  {
   "cell_type": "markdown",
   "metadata": {},
   "source": [
    "Plot vector rulespace."
   ]
  },
  {
   "cell_type": "code",
   "execution_count": null,
   "metadata": {},
   "outputs": [],
   "source": [
    "rule1, rule2 = simple_model.rules()\n",
    "plot_rulespace(rule1, rule2, simple_model.x1_test[:,:2])"
   ]
  },
  {
   "cell_type": "markdown",
   "metadata": {},
   "source": [
    "Train multiple models (with relative importance metric)."
   ]
  },
  {
   "cell_type": "code",
   "execution_count": null,
   "metadata": {},
   "outputs": [],
   "source": [
    "N_models = 100\n",
    "models_RI = train_multiple('simple_network', simple_hyperparameters, N_models = N_models)\n",
    "plot_training(models_RI)\n"
   ]
  },
  {
   "cell_type": "markdown",
   "metadata": {},
   "source": [
    "Train multiple models (with importance similarity metric)."
   ]
  },
  {
   "cell_type": "code",
   "execution_count": null,
   "metadata": {},
   "outputs": [],
   "source": [
    "N_models = 100\n",
    "models_IS, IS_history = train_IS_history('simple_network', simple_hyperparameters, N_models = N_models)\n",
    "plot_training(models_IS)"
   ]
  },
  {
   "cell_type": "markdown",
   "metadata": {},
   "source": [
    "Plot relative importance."
   ]
  },
  {
   "cell_type": "code",
   "execution_count": null,
   "metadata": {},
   "outputs": [],
   "source": [
    "plot_RI(models_RI)"
   ]
  },
  {
   "cell_type": "markdown",
   "metadata": {},
   "source": [
    "Plot relative importance over variation in theta (angle between rule vectors)."
   ]
  },
  {
   "cell_type": "code",
   "execution_count": null,
   "metadata": {},
   "outputs": [],
   "source": [
    "theta_variation(model_class='simple_network')"
   ]
  },
  {
   "cell_type": "code",
   "execution_count": 4,
   "metadata": {},
   "outputs": [
    {
     "name": "stdout",
     "output_type": "stream",
     "text": [
      "[-177.90209647 -155.99266055 -144.12709632 -127.50879788 -112.5138892\n",
      "  -53.05078492   -5.11040668   87.71428247  134.14171183  167.78843623]\n"
     ]
    },
    {
     "name": "stderr",
     "output_type": "stream",
     "text": [
      "Theta:   0%|          | 0/10 [00:00<?, ?it/s]"
     ]
    },
    {
     "name": "stdout",
     "output_type": "stream",
     "text": [
      "theta = 242.53986270596855, delta theta = -177.90209646962083, theta+delta_theta = 64.63776623634772\n",
      "grad1 = 1.924249613721439, grad2 = 2.1095826852388573\n",
      "model.delta_theta =  -177.90209646962083\n",
      "model.delta_theta =  -177.90209646962083\n",
      "model.delta_theta =  -177.90209646962083\n",
      "model.delta_theta =  -177.90209646962083\n",
      "model.delta_theta =  -177.90209646962083\n",
      "model.delta_theta =  -177.90209646962083\n",
      "model.delta_theta =  -177.90209646962083\n",
      "model.delta_theta =  -177.90209646962083\n",
      "model.delta_theta =  -177.90209646962083\n",
      "model.delta_theta =  -177.90209646962083\n",
      "model.delta_theta =  -177.90209646962083\n"
     ]
    },
    {
     "name": "stderr",
     "output_type": "stream",
     "text": [
      "Theta:  10%|█         | 1/10 [00:23<03:31, 23.47s/it]"
     ]
    },
    {
     "name": "stdout",
     "output_type": "stream",
     "text": [
      "theta = 261.6242950036996, delta theta = -155.99266054576313, theta+delta_theta = 105.63163445793649\n",
      "grad1 = 6.791913826217716, grad2 = -3.573977899761226\n",
      "model.delta_theta =  -155.99266054576313\n",
      "model.delta_theta =  -155.99266054576313\n",
      "model.delta_theta =  -155.99266054576313\n",
      "model.delta_theta =  -155.99266054576313\n",
      "model.delta_theta =  -155.99266054576313\n",
      "model.delta_theta =  -155.99266054576313\n",
      "model.delta_theta =  -155.99266054576313\n",
      "model.delta_theta =  -155.99266054576313\n",
      "model.delta_theta =  -155.99266054576313\n",
      "model.delta_theta =  -155.99266054576313\n",
      "model.delta_theta =  -155.99266054576313\n",
      "model.delta_theta =  -155.99266054576313\n",
      "model.delta_theta =  -155.99266054576313\n"
     ]
    },
    {
     "name": "stderr",
     "output_type": "stream",
     "text": [
      "Theta:  20%|██        | 2/10 [00:49<03:21, 25.18s/it]"
     ]
    },
    {
     "name": "stdout",
     "output_type": "stream",
     "text": [
      "theta = 7.894197907367051, delta theta = -144.12709631745298, theta+delta_theta = -136.23289841008594\n",
      "grad1 = 0.13865825282566988, grad2 = 0.9578639132456146\n",
      "model.delta_theta =  -144.12709631745298\n",
      "model.delta_theta =  -144.12709631745298\n",
      "model.delta_theta =  -144.12709631745298\n",
      "model.delta_theta =  -144.12709631745298\n",
      "model.delta_theta =  -144.12709631745298\n",
      "model.delta_theta =  -144.12709631745298\n",
      "model.delta_theta =  -144.12709631745298\n",
      "model.delta_theta =  -144.12709631745298\n",
      "model.delta_theta =  -144.12709631745298\n",
      "model.delta_theta =  -144.12709631745298\n",
      "model.delta_theta =  -144.12709631745298\n",
      "model.delta_theta =  -144.12709631745298\n"
     ]
    },
    {
     "name": "stderr",
     "output_type": "stream",
     "text": [
      "Theta:  30%|███       | 3/10 [01:14<02:53, 24.74s/it]"
     ]
    },
    {
     "name": "stdout",
     "output_type": "stream",
     "text": [
      "theta = 216.1290187171428, delta theta = -127.50879788415335, theta+delta_theta = 88.62022083298945\n",
      "grad1 = 0.7299886181471562, grad2 = 41.51729831122729\n",
      "model.delta_theta =  -127.50879788415335\n",
      "model.delta_theta =  -127.50879788415335\n",
      "model.delta_theta =  -127.50879788415335\n",
      "model.delta_theta =  -127.50879788415335\n",
      "model.delta_theta =  -127.50879788415335\n",
      "model.delta_theta =  -127.50879788415335\n",
      "model.delta_theta =  -127.50879788415335\n",
      "model.delta_theta =  -127.50879788415335\n",
      "model.delta_theta =  -127.50879788415335\n",
      "model.delta_theta =  -127.50879788415335\n",
      "model.delta_theta =  -127.50879788415335\n"
     ]
    },
    {
     "name": "stderr",
     "output_type": "stream",
     "text": [
      "Theta:  40%|████      | 4/10 [01:36<02:21, 23.66s/it]"
     ]
    },
    {
     "name": "stdout",
     "output_type": "stream",
     "text": [
      "theta = 317.2429163158727, delta theta = -112.51388919683984, theta+delta_theta = 204.72902711903288\n",
      "grad1 = -0.9246197961232261, grad2 = 0.46056254890998205\n",
      "model.delta_theta =  -112.51388919683984\n",
      "model.delta_theta =  -112.51388919683984\n",
      "model.delta_theta =  -112.51388919683984\n",
      "model.delta_theta =  -112.51388919683984\n",
      "model.delta_theta =  -112.51388919683984\n",
      "model.delta_theta =  -112.51388919683984\n",
      "model.delta_theta =  -112.51388919683984\n",
      "model.delta_theta =  -112.51388919683984\n",
      "model.delta_theta =  -112.51388919683984\n",
      "model.delta_theta =  -112.51388919683984\n",
      "model.delta_theta =  -112.51388919683984\n",
      "model.delta_theta =  -112.51388919683984\n"
     ]
    },
    {
     "name": "stderr",
     "output_type": "stream",
     "text": [
      "Theta:  50%|█████     | 5/10 [02:00<01:59, 23.92s/it]"
     ]
    },
    {
     "name": "stdout",
     "output_type": "stream",
     "text": [
      "theta = 176.36487548445686, delta theta = -53.05078491932828, theta+delta_theta = 123.31409056512858\n",
      "grad1 = -0.06353015607671085, grad2 = -1.5215389346567698\n",
      "model.delta_theta =  -53.05078491932828\n",
      "model.delta_theta =  -53.05078491932828\n",
      "model.delta_theta =  -53.05078491932828\n",
      "model.delta_theta =  -53.05078491932828\n",
      "model.delta_theta =  -53.05078491932828\n",
      "model.delta_theta =  -53.05078491932828\n",
      "model.delta_theta =  -53.05078491932828\n",
      "model.delta_theta =  -53.05078491932828\n",
      "model.delta_theta =  -53.05078491932828\n",
      "model.delta_theta =  -53.05078491932828\n",
      "model.delta_theta =  -53.05078491932828\n"
     ]
    },
    {
     "name": "stderr",
     "output_type": "stream",
     "text": [
      "Theta:  60%|██████    | 6/10 [02:22<01:33, 23.29s/it]"
     ]
    },
    {
     "name": "stdout",
     "output_type": "stream",
     "text": [
      "theta = 165.2691324393578, delta theta = -5.1104066783105395, theta+delta_theta = 160.15872576104726\n",
      "grad1 = -0.2629209896990658, grad2 = -0.3608361073207493\n",
      "model.delta_theta =  -5.1104066783105395\n",
      "model.delta_theta =  -5.1104066783105395\n",
      "model.delta_theta =  -5.1104066783105395\n",
      "model.delta_theta =  -5.1104066783105395\n",
      "model.delta_theta =  -5.1104066783105395\n",
      "model.delta_theta =  -5.1104066783105395\n",
      "model.delta_theta =  -5.1104066783105395\n",
      "model.delta_theta =  -5.1104066783105395\n",
      "model.delta_theta =  -5.1104066783105395\n",
      "model.delta_theta =  -5.1104066783105395\n",
      "model.delta_theta =  -5.1104066783105395\n",
      "model.delta_theta =  -5.1104066783105395\n",
      "model.delta_theta =  -5.1104066783105395\n"
     ]
    },
    {
     "name": "stderr",
     "output_type": "stream",
     "text": [
      "Theta:  70%|███████   | 7/10 [02:48<01:12, 24.25s/it]"
     ]
    },
    {
     "name": "stdout",
     "output_type": "stream",
     "text": [
      "theta = 358.4386013640918, delta theta = 87.71428246916378, theta+delta_theta = 446.1528838332556\n",
      "grad1 = -0.027258295228950444, grad2 = 14.870788006175413\n",
      "model.delta_theta =  87.71428246916378\n",
      "model.delta_theta =  87.71428246916378\n",
      "model.delta_theta =  87.71428246916378\n",
      "model.delta_theta =  87.71428246916378\n",
      "model.delta_theta =  87.71428246916378\n",
      "model.delta_theta =  87.71428246916378\n",
      "model.delta_theta =  87.71428246916378\n",
      "model.delta_theta =  87.71428246916378\n",
      "model.delta_theta =  87.71428246916378\n",
      "model.delta_theta =  87.71428246916378\n",
      "model.delta_theta =  87.71428246916378\n",
      "model.delta_theta =  87.71428246916378\n"
     ]
    },
    {
     "name": "stderr",
     "output_type": "stream",
     "text": [
      "Theta:  80%|████████  | 8/10 [03:12<00:48, 24.22s/it]"
     ]
    },
    {
     "name": "stdout",
     "output_type": "stream",
     "text": [
      "theta = 256.2512131718053, delta theta = 134.1417118305352, theta+delta_theta = 390.3929250023405\n",
      "grad1 = 4.087037523808873, grad2 = 0.5865305412317101\n",
      "model.delta_theta =  134.1417118305352\n",
      "model.delta_theta =  134.1417118305352\n",
      "model.delta_theta =  134.1417118305352\n",
      "model.delta_theta =  134.1417118305352\n",
      "model.delta_theta =  134.1417118305352\n",
      "model.delta_theta =  134.1417118305352\n",
      "model.delta_theta =  134.1417118305352\n",
      "model.delta_theta =  134.1417118305352\n",
      "model.delta_theta =  134.1417118305352\n",
      "model.delta_theta =  134.1417118305352\n",
      "model.delta_theta =  134.1417118305352\n",
      "model.delta_theta =  134.1417118305352\n",
      "model.delta_theta =  134.1417118305352\n",
      "model.delta_theta =  134.1417118305352\n",
      "model.delta_theta =  134.1417118305352\n"
     ]
    },
    {
     "name": "stderr",
     "output_type": "stream",
     "text": [
      "Theta:  90%|█████████ | 9/10 [03:43<00:26, 26.27s/it]"
     ]
    },
    {
     "name": "stdout",
     "output_type": "stream",
     "text": [
      "theta = 229.48359915808985, delta theta = 167.7884362294713, theta+delta_theta = 397.2720353875611\n",
      "grad1 = 1.1701711296850417, grad2 = 0.7610248210543682\n",
      "model.delta_theta =  167.7884362294713\n",
      "model.delta_theta =  167.7884362294713\n",
      "model.delta_theta =  167.7884362294713\n",
      "model.delta_theta =  167.7884362294713\n",
      "model.delta_theta =  167.7884362294713\n",
      "model.delta_theta =  167.7884362294713\n",
      "model.delta_theta =  167.7884362294713\n",
      "model.delta_theta =  167.7884362294713\n",
      "model.delta_theta =  167.7884362294713\n",
      "model.delta_theta =  167.7884362294713\n",
      "model.delta_theta =  167.7884362294713\n",
      "model.delta_theta =  167.7884362294713\n"
     ]
    },
    {
     "name": "stderr",
     "output_type": "stream",
     "text": [
      "Theta: 100%|██████████| 10/10 [04:07<00:00, 24.78s/it]\n"
     ]
    },
    {
     "data": {
      "image/png": "[encoded data removed]",
      "text/plain": [
       "<Figure size 1500x1200 with 10 Axes>"
      ]
     },
     "metadata": {},
     "output_type": "display_data"
    }
   ],
   "source": [
    "theta_sampling(model_class='simple_network', hyperparameters=simple_hyperparameters, N_models=100, N_theta=25)"
   ]
  },
  {
   "cell_type": "markdown",
   "metadata": {},
   "source": [
    "Plot absolute importance (*needs fixing*)."
   ]
  },
  {
   "cell_type": "code",
   "execution_count": null,
   "metadata": {},
   "outputs": [],
   "source": [
    "plot_I(models_IS)"
   ]
  },
  {
   "cell_type": "markdown",
   "metadata": {},
   "source": [
    "Plot importance similarity."
   ]
  },
  {
   "cell_type": "code",
   "execution_count": null,
   "metadata": {},
   "outputs": [],
   "source": [
    "plot_IS(models_IS)\n",
    "plot_IS_history(models_IS, IS_history, simple_hyperparameters)"
   ]
  }
 ],
 "metadata": {
  "kernelspec": {
   "display_name": "Python 3.10.8 ('ModNet')",
   "language": "python",
   "name": "python3"
  },
  "language_info": {
   "codemirror_mode": {
    "name": "ipython",
    "version": 3
   },
   "file_extension": ".py",
   "mimetype": "text/x-python",
   "name": "python",
   "nbconvert_exporter": "python",
   "pygments_lexer": "ipython3",
   "version": "3.10.8"
  },
  "orig_nbformat": 4,
  "vscode": {
   "interpreter": {
    "hash": "d6472e7724036b9942d537136dc2b77055d9a374ff2a9c1da2b3097eaf005ec3"
   }
  }
 },
 "nbformat": 4,
 "nbformat_minor": 2
}
