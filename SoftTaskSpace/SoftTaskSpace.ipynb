{
 "cells": [
  {
   "cell_type": "markdown",
   "metadata": {},
   "source": [
    "## Soft Task Space\n"
   ]
  },
  {
   "cell_type": "code",
   "execution_count": 1,
   "metadata": {},
   "outputs": [
    {
     "name": "stderr",
     "output_type": "stream",
     "text": [
      "/nfs/nhome/live/lhollingsworth/miniconda3/envs/ModNet/lib/python3.10/site-packages/tqdm/auto.py:22: TqdmWarning: IProgress not found. Please update jupyter and ipywidgets. See https://ipywidgets.readthedocs.io/en/stable/user_install.html\n",
      "  from .autonotebook import tqdm as notebook_tqdm\n"
     ]
    }
   ],
   "source": [
    "import numpy as np\n",
    "np.seterr(all='ignore')\n",
    "from networks import simple_network\n",
    "from utils import *\n",
    "simple_hyperparameters = {'N_train' : 1000, #size of training dataset \n",
    "                          'N_test' : 100, #size of test set x\n",
    "                          'lr' : 0.001, #SGD learning rate \n",
    "                          'epochs' : 10, #training epochs\n",
    "                          'batch_size' : 10,  #batch size (large will probably fail)           \n",
    "                          'context_location' : 'start',  #where the feed in the task context 'start' vs 'end'\n",
    "                          'train_mode' : 'random', #training mode 'random' vs 'replay' \n",
    "                          'second_task' : 'prod', #first task adds x+y, second task 'prod' = xy or 'add1.5' = x+1.5y\n",
    "                          'fraction' : 0.50, #fraction of training data for tasks 1 vs task 2\n",
    "                          'hidden_size' : 50, #hidden layer width\n",
    "                          'rule1_grad' : 0,\n",
    "                          'rule2_grad' : 1}\n",
    "\n",
    "simple_model = simple_network(simple_hyperparameters)"
   ]
  },
  {
   "cell_type": "code",
   "execution_count": null,
   "metadata": {},
   "outputs": [],
   "source": [
    "rule1, rule2 = simple_model.rules()\n",
    "plot_rulespace(list(rule1[0]), list(rule2[0]), simple_model.x1_test[:,:2])"
   ]
  },
  {
   "cell_type": "code",
   "execution_count": 2,
   "metadata": {},
   "outputs": [
    {
     "name": "stderr",
     "output_type": "stream",
     "text": [
      "Model:  80%|████████  | 8/10 [02:34<00:39, 19.71s/it]"
     ]
    }
   ],
   "source": [
    "N_models = 100\n",
    "models1 = train_multiple('simple_network', simple_hyperparameters, N_models = N_models)\n",
    "plot_training(models1)\n"
   ]
  },
  {
   "cell_type": "code",
   "execution_count": null,
   "metadata": {},
   "outputs": [],
   "source": [
    "N_models = 10\n",
    "models1, IS_history = train_IS_history('simple_network', simple_hyperparameters, N_models = N_models)\n",
    "plot_training(models1)"
   ]
  },
  {
   "cell_type": "code",
   "execution_count": null,
   "metadata": {},
   "outputs": [],
   "source": [
    "plot_RI(models1)"
   ]
  },
  {
   "cell_type": "code",
   "execution_count": null,
   "metadata": {},
   "outputs": [],
   "source": [
    "theta_variation(model_class='simple_network')"
   ]
  },
  {
   "cell_type": "code",
   "execution_count": null,
   "metadata": {},
   "outputs": [],
   "source": [
    "plot_I(models1)"
   ]
  },
  {
   "cell_type": "code",
   "execution_count": null,
   "metadata": {},
   "outputs": [],
   "source": [
    "plot_IS(models1)\n",
    "plot_IS_history(models1, IS_history)"
   ]
  }
 ],
 "metadata": {
  "kernelspec": {
   "display_name": "Python 3.10.8",
   "language": "python",
   "name": "python3"
  },
  "language_info": {
   "codemirror_mode": {
    "name": "ipython",
    "version": 3
   },
   "file_extension": ".py",
   "mimetype": "text/x-python",
   "name": "python",
   "nbconvert_exporter": "python",
   "pygments_lexer": "ipython3",
   "version": "3.10.8"
  },
  "orig_nbformat": 4,
  "vscode": {
   "interpreter": {
    "hash": "9960e232580e829274f2145a416edaa8c8673b48b917aa289ead47d5bed9b9df"
   }
  }
 },
 "nbformat": 4,
 "nbformat_minor": 2
}
