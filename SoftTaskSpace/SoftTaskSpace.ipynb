{
 "cells": [
  {
   "cell_type": "markdown",
   "metadata": {},
   "source": [
    "## Soft Task Space\n",
    "Initialise nework with desired hyperparameters."
   ]
  },
  {
   "cell_type": "code",
   "execution_count": 1,
   "metadata": {},
   "outputs": [
    {
     "name": "stderr",
     "output_type": "stream",
     "text": [
      "c:\\Users\\Luke\\anaconda3\\envs\\ModNet\\lib\\site-packages\\tqdm\\auto.py:22: TqdmWarning: IProgress not found. Please update jupyter and ipywidgets. See https://ipywidgets.readthedocs.io/en/stable/user_install.html\n",
      "  from .autonotebook import tqdm as notebook_tqdm\n"
     ]
    }
   ],
   "source": [
    "import numpy as np\n",
    "np.seterr(all='ignore')\n",
    "from networks import simple_network\n",
    "from utils import *\n",
    "simple_hyperparameters = {'N_train' : 1000, #size of training dataset \n",
    "                          'N_test' : 100, #size of test set x\n",
    "                          'lr' : 0.001, #SGD learning rate \n",
    "                          'epochs' : 10, #training epochs\n",
    "                          'batch_size' : 10,  #batch size (large will probably fail)           \n",
    "                          'context_location' : 'start',  #where the feed in the task context 'start' vs 'end'\n",
    "                          'train_mode' : 'random', #training mode 'random' vs 'replay' \n",
    "                          'second_task' : 'prod', #first task adds x+y, second task 'prod' = xy or 'add1.5' = x+1.5y\n",
    "                          'fraction' : 0.50, #fraction of training data for tasks 1 vs task 2\n",
    "                          'hidden_size' : 25, #hidden layer width\n",
    "                          'rule1_grad' : 0,\n",
    "                          'rule2_grad' : 1}\n",
    "\n",
    "simple_model = simple_network(simple_hyperparameters)"
   ]
  },
  {
   "cell_type": "markdown",
   "metadata": {},
   "source": [
    "Plot vector rulespace."
   ]
  },
  {
   "cell_type": "code",
   "execution_count": null,
   "metadata": {},
   "outputs": [],
   "source": [
    "rule1, rule2 = simple_model.rules()\n",
    "plot_rulespace(rule1, rule2, simple_model.x1_test[:,:2])"
   ]
  },
  {
   "cell_type": "markdown",
   "metadata": {},
   "source": [
    "Train multiple models (with relative importance metric)."
   ]
  },
  {
   "cell_type": "code",
   "execution_count": null,
   "metadata": {},
   "outputs": [],
   "source": [
    "N_models = 100\n",
    "models_RI = train_multiple('simple_network', simple_hyperparameters, N_models = N_models)\n",
    "plot_training(models_RI)\n"
   ]
  },
  {
   "cell_type": "markdown",
   "metadata": {},
   "source": [
    "Train multiple models (with importance similarity metric)."
   ]
  },
  {
   "cell_type": "code",
   "execution_count": null,
   "metadata": {},
   "outputs": [],
   "source": [
    "N_models = 100\n",
    "models_IS, IS_history = train_IS_history('simple_network', simple_hyperparameters, N_models = N_models)\n",
    "plot_training(models_IS)"
   ]
  },
  {
   "cell_type": "markdown",
   "metadata": {},
   "source": [
    "Plot relative importance."
   ]
  },
  {
   "cell_type": "code",
   "execution_count": null,
   "metadata": {},
   "outputs": [],
   "source": [
    "plot_RI(models_RI)"
   ]
  },
  {
   "cell_type": "markdown",
   "metadata": {},
   "source": [
    "Plot relative importance over variation in theta (angle between rule vectors)."
   ]
  },
  {
   "cell_type": "code",
   "execution_count": null,
   "metadata": {},
   "outputs": [],
   "source": [
    "theta_variation(model_class='simple_network')"
   ]
  },
  {
   "cell_type": "code",
   "execution_count": 2,
   "metadata": {},
   "outputs": [
    {
     "ename": "TypeError",
     "evalue": "'NoneType' object is not subscriptable",
     "output_type": "error",
     "traceback": [
      "\u001b[1;31m---------------------------------------------------------------------------\u001b[0m",
      "\u001b[1;31mTypeError\u001b[0m                                 Traceback (most recent call last)",
      "Cell \u001b[1;32mIn [2], line 1\u001b[0m\n\u001b[1;32m----> 1\u001b[0m theta_sampling(model_class\u001b[39m=\u001b[39;49m\u001b[39m'\u001b[39;49m\u001b[39msimple_network\u001b[39;49m\u001b[39m'\u001b[39;49m, N_models\u001b[39m=\u001b[39;49m\u001b[39m20\u001b[39;49m)\n",
      "File \u001b[1;32mh:\\Documents\\PhD\\Research Assistant\\ModNet\\SoftTaskSpace\\utils.py:258\u001b[0m, in \u001b[0;36mtheta_sampling\u001b[1;34m(model_class, hyperparameters, N_models)\u001b[0m\n\u001b[0;32m    255\u001b[0m delta_thetas \u001b[39m=\u001b[39m np\u001b[39m.\u001b[39mrandom\u001b[39m.\u001b[39muniform(\u001b[39m0\u001b[39m, \u001b[39m360\u001b[39m, N_theta)\n\u001b[0;32m    257\u001b[0m RI_data \u001b[39m=\u001b[39m [[],[],[],[]]\n\u001b[1;32m--> 258\u001b[0m IS_data \u001b[39m=\u001b[39m np\u001b[39m.\u001b[39mzeros((\u001b[39m4\u001b[39m,hyperparameters[\u001b[39m'\u001b[39;49m\u001b[39mepochs\u001b[39;49m\u001b[39m'\u001b[39;49m],N_models))\n\u001b[0;32m    260\u001b[0m \u001b[39mif\u001b[39;00m model_class \u001b[39m==\u001b[39m \u001b[39m'\u001b[39m\u001b[39msimple_network\u001b[39m\u001b[39m'\u001b[39m:\n\u001b[0;32m    261\u001b[0m     \u001b[39mfrom\u001b[39;00m \u001b[39mnetworks\u001b[39;00m \u001b[39mimport\u001b[39;00m simple_network\n",
      "\u001b[1;31mTypeError\u001b[0m: 'NoneType' object is not subscriptable"
     ]
    }
   ],
   "source": [
    "theta_sampling(model_class='simple_network', hyperparameters=simple_hyperparameters, N_models=20)"
   ]
  },
  {
   "cell_type": "markdown",
   "metadata": {},
   "source": [
    "Plot absolute importance (*needs fixing*)."
   ]
  },
  {
   "cell_type": "code",
   "execution_count": null,
   "metadata": {},
   "outputs": [],
   "source": [
    "plot_I(models_IS)"
   ]
  },
  {
   "cell_type": "markdown",
   "metadata": {},
   "source": [
    "Plot importance similarity."
   ]
  },
  {
   "cell_type": "code",
   "execution_count": null,
   "metadata": {},
   "outputs": [],
   "source": [
    "plot_IS(models_IS)\n",
    "plot_IS_history(models_IS, IS_history, simple_hyperparameters)"
   ]
  }
 ],
 "metadata": {
  "kernelspec": {
   "display_name": "Python 3.10.8 ('ModNet')",
   "language": "python",
   "name": "python3"
  },
  "language_info": {
   "codemirror_mode": {
    "name": "ipython",
    "version": 3
   },
   "file_extension": ".py",
   "mimetype": "text/x-python",
   "name": "python",
   "nbconvert_exporter": "python",
   "pygments_lexer": "ipython3",
   "version": "3.10.8"
  },
  "orig_nbformat": 4,
  "vscode": {
   "interpreter": {
    "hash": "d6472e7724036b9942d537136dc2b77055d9a374ff2a9c1da2b3097eaf005ec3"
   }
  }
 },
 "nbformat": 4,
 "nbformat_minor": 2
}
